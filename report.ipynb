{
 "cells": [
  {
   "cell_type": "markdown",
   "id": "570f3dd8",
   "metadata": {},
   "source": [
    "# BBM409 : Introduction to Machine Learning Lab. Assignment 1"
   ]
  },
  {
   "cell_type": "markdown",
   "id": "0c5e685f",
   "metadata": {},
   "source": [
    "#### PROBLEM DEFINITION :\n",
    "\n",
    "    \n",
    "In this assignment, we were asked to understand the KNN classification and KNN regression algorithms and perform a basic experiment with appropriate datasets.\n",
    "    \n",
    "In the first part of the experiment, we classified the various types of glass given to us using the KNN algorithm. In this dataset where glass types were given, there were element amounts in the glasses as attributes of each data. We tried to classify the elements according to the amount of content and tried to reach the most accurate results with the predictions with the highest element content similarity. \n",
    "\n",
    "In the second part of the experiment, we tried to estimate the strength rate values of the concrete types given to us by using the KNN algorithm. In this estimation process, we estimated the strength rate value of the relevant data by averaging the closest data according to the similarity of the content amounts.\n"
   ]
  },
  {
   "cell_type": "code",
   "execution_count": 1,
   "id": "dbeb7948",
   "metadata": {},
   "outputs": [
    {
     "name": "stdout",
     "output_type": "stream",
     "text": [
      "Requirement already satisfied: colorama==0.4.4 in c:\\users\\berkay\\desktop\\workspace\\bbm409\\assig_1\\venv\\lib\\site-packages (from -r requirements.txt (line 1)) (0.4.4)\n",
      "Requirement already satisfied: numpy==1.21.2 in c:\\users\\berkay\\desktop\\workspace\\bbm409\\assig_1\\venv\\lib\\site-packages (from -r requirements.txt (line 2)) (1.21.2)\n",
      "Requirement already satisfied: pandas==1.3.3 in c:\\users\\berkay\\desktop\\workspace\\bbm409\\assig_1\\venv\\lib\\site-packages (from -r requirements.txt (line 3)) (1.3.3)\n",
      "Requirement already satisfied: python-dateutil==2.8.2 in c:\\users\\berkay\\desktop\\workspace\\bbm409\\assig_1\\venv\\lib\\site-packages (from -r requirements.txt (line 4)) (2.8.2)\n",
      "Requirement already satisfied: pytz==2021.3 in c:\\users\\berkay\\desktop\\workspace\\bbm409\\assig_1\\venv\\lib\\site-packages (from -r requirements.txt (line 5)) (2021.3)\n",
      "Requirement already satisfied: six==1.16.0 in c:\\users\\berkay\\desktop\\workspace\\bbm409\\assig_1\\venv\\lib\\site-packages (from -r requirements.txt (line 6)) (1.16.0)\n",
      "Requirement already satisfied: tqdm==4.62.2 in c:\\users\\berkay\\desktop\\workspace\\bbm409\\assig_1\\venv\\lib\\site-packages (from -r requirements.txt (line 7)) (4.62.2)\n",
      "Requirement already satisfied: matplotlib==3.4.3 in c:\\users\\berkay\\desktop\\workspace\\bbm409\\assig_1\\venv\\lib\\site-packages (from -r requirements.txt (line 8)) (3.4.3)\n",
      "Requirement already satisfied: matplotlib-inline==0.1.3 in c:\\users\\berkay\\desktop\\workspace\\bbm409\\assig_1\\venv\\lib\\site-packages (from -r requirements.txt (line 9)) (0.1.3)\n",
      "Requirement already satisfied: kiwisolver==1.3.2 in c:\\users\\berkay\\desktop\\workspace\\bbm409\\assig_1\\venv\\lib\\site-packages (from -r requirements.txt (line 10)) (1.3.2)\n",
      "Requirement already satisfied: cycler==0.10.0 in c:\\users\\berkay\\desktop\\workspace\\bbm409\\assig_1\\venv\\lib\\site-packages (from -r requirements.txt (line 11)) (0.10.0)\n",
      "Requirement already satisfied: Pillow==8.4.0 in c:\\users\\berkay\\desktop\\workspace\\bbm409\\assig_1\\venv\\lib\\site-packages (from -r requirements.txt (line 12)) (8.4.0)\n",
      "Requirement already satisfied: pyparsing>=2.2.1 in c:\\users\\berkay\\desktop\\workspace\\bbm409\\assig_1\\venv\\lib\\site-packages (from matplotlib==3.4.3->-r requirements.txt (line 8)) (3.0.2)\n",
      "Requirement already satisfied: traitlets in c:\\users\\berkay\\desktop\\workspace\\bbm409\\assig_1\\venv\\lib\\site-packages (from matplotlib-inline==0.1.3->-r requirements.txt (line 9)) (5.1.1)\n"
     ]
    },
    {
     "name": "stderr",
     "output_type": "stream",
     "text": [
      "WARNING: You are using pip version 21.3; however, version 21.3.1 is available.\n",
      "You should consider upgrading via the 'c:\\users\\berkay\\desktop\\workspace\\bbm409\\assig_1\\venv\\scripts\\python.exe -m pip install --upgrade pip' command.\n"
     ]
    }
   ],
   "source": [
    "!pip install -r requirements.txt"
   ]
  },
  {
   "cell_type": "markdown",
   "id": "fefaeeca",
   "metadata": {},
   "source": [
    "First, we need to install the packages specified in the *requirements.txt* file. "
   ]
  },
  {
   "cell_type": "markdown",
   "id": "4b943e96",
   "metadata": {},
   "source": [
    "## Imports"
   ]
  },
  {
   "cell_type": "markdown",
   "id": "c60721ce",
   "metadata": {},
   "source": [
    "We imported the necessary packages and modules."
   ]
  },
  {
   "cell_type": "code",
   "execution_count": 2,
   "id": "185b7d2e",
   "metadata": {},
   "outputs": [],
   "source": [
    "from math import sqrt\n",
    "import numpy as np\n",
    "from tqdm import tqdm\n",
    "import pandas as pd\n",
    "from collections import Counter\n",
    "import matplotlib.pyplot as plt"
   ]
  },
  {
   "cell_type": "code",
   "execution_count": 3,
   "id": "7ea0447f",
   "metadata": {},
   "outputs": [],
   "source": [
    "%matplotlib inline"
   ]
  },
  {
   "cell_type": "markdown",
   "id": "9925ff2d",
   "metadata": {},
   "source": [
    "### Graph Drawer Method"
   ]
  },
  {
   "cell_type": "markdown",
   "id": "c61fe21d",
   "metadata": {},
   "source": [
    "Method that draws line graph according to different **accuracy** and **mae** values with respect to different **k** values."
   ]
  },
  {
   "cell_type": "code",
   "execution_count": 4,
   "id": "4b6ad009",
   "metadata": {},
   "outputs": [],
   "source": [
    "def plot_k_values_and_accuracies(title1, title2, arr1, arr2, fontSize, isAcc=True):\n",
    "    x = np.array([\"1\", \"3\", \"5\", \"7\", \"9\"])\n",
    "    plt.subplot(1, 2, 1)\n",
    "    plt.subplots_adjust(wspace=0.4)\n",
    "    plt.plot(x, arr1, marker='o')\n",
    "\n",
    "    plt.title(title1, fontdict=fontSize)\n",
    "    plt.xlabel(\"K values\")\n",
    "\n",
    "    plt.ylabel(\"Accuracies\" if isAcc else \"Mean MAE\")\n",
    "\n",
    "    plt.subplot(1, 2, 2)\n",
    "    plt.plot(x, arr2, marker='o')\n",
    "\n",
    "    plt.title(title2, fontdict=fontSize)\n",
    "    plt.xlabel(\"K values\")\n",
    "    plt.ylabel(\"Accuracies\" if isAcc else \"Mean MAE\")\n",
    "\n",
    "    plt.show()"
   ]
  },
  {
   "cell_type": "markdown",
   "id": "2bc2ed75",
   "metadata": {},
   "source": [
    "### Euclidean Distance Method"
   ]
  },
  {
   "cell_type": "markdown",
   "id": "1bc00397",
   "metadata": {},
   "source": [
    "Euclidian distance function that compares each attribute of the data in each row and calculates their distance from each other in numerical dimension. We subtracted the values ​​in each column of the two selected data, squared them, and summed up all of this result. Finally, by taking the square root of the entire total value, we determined the distance of the two data from each other. "
   ]
  },
  {
   "cell_type": "code",
   "execution_count": 5,
   "id": "e4c49bff",
   "metadata": {},
   "outputs": [],
   "source": [
    "def euclidean_distance(first_row, second_row):\n",
    "    if len(first_row) != len(second_row):\n",
    "        raise Exception(\"Two rows must have the same dimension!\")\n",
    "\n",
    "    total = 0\n",
    "    for index in range(len(first_row)):\n",
    "        diff_square = (first_row[index] - second_row[index]) ** 2\n",
    "        total += diff_square\n",
    "    return sqrt(total)"
   ]
  },
  {
   "cell_type": "markdown",
   "id": "eab56b2f",
   "metadata": {},
   "source": [
    "### Accuracy Calculator Method"
   ]
  },
  {
   "cell_type": "markdown",
   "id": "1dbb3425",
   "metadata": {},
   "source": [
    "Function that calculates the total accuracy score by considering the equality of the predicted class values with the real class values. Finally, multiply the total accuracy rate by one hundred to get a percentage value. "
   ]
  },
  {
   "cell_type": "code",
   "execution_count": 6,
   "id": "4c55abc3",
   "metadata": {},
   "outputs": [],
   "source": [
    "def accuracy_score(predicted, labels):\n",
    "    predicted = np.array(predicted)\n",
    "    labels = np.array(labels)\n",
    "\n",
    "    # Comparison between predictions and the test labels.\n",
    "    accuracy = (predicted == labels).sum() / len(predicted)\n",
    "    # print(accuracy*100)\n",
    "    return accuracy * 100"
   ]
  },
  {
   "cell_type": "markdown",
   "id": "882803aa",
   "metadata": {},
   "source": [
    "### Mean Absolute Error Calculator Method"
   ]
  },
  {
   "cell_type": "markdown",
   "id": "b08787a2",
   "metadata": {},
   "source": [
    "The mean absolute error value is the sum of the differences between the actual strength rate values and the estimated value, divided by the total number of data, and the absolute value of the result. "
   ]
  },
  {
   "cell_type": "code",
   "execution_count": 7,
   "id": "ba3eef82",
   "metadata": {},
   "outputs": [],
   "source": [
    "def mean_absolute_error(predicted, labels):\n",
    "    predicted = np.array(predicted)\n",
    "    labels = np.array(labels)\n",
    "\n",
    "\n",
    "    mae = np.absolute(labels - predicted).sum() / len(predicted)\n",
    "    return mae"
   ]
  },
  {
   "cell_type": "markdown",
   "id": "56579048",
   "metadata": {},
   "source": [
    "### Min-Max Normalization Method"
   ]
  },
  {
   "cell_type": "markdown",
   "id": "38dc3a55",
   "metadata": {},
   "source": [
    "Method that applying min-max normalization column wise using only numpy functions"
   ]
  },
  {
   "cell_type": "code",
   "execution_count": 8,
   "id": "b01183b5",
   "metadata": {},
   "outputs": [],
   "source": [
    "def min_max_normalization(data):\n",
    "    # max_bucket = [-1000000000 for i in range(len(data[0]))]\n",
    "\n",
    "    # working on temp data\n",
    "    temp_data = data.copy()\n",
    "\n",
    "    length = len(temp_data[0])\n",
    "\n",
    "    # scaling each attribute of the data\n",
    "    for i in range(length):\n",
    "        col_data = temp_data[:, i]\n",
    "        _max = np.max(col_data)\n",
    "        _min = np.min(col_data)\n",
    "\n",
    "        # applying min-max normalization\n",
    "        col_data = (col_data - _min) / (_max - _min)\n",
    "\n",
    "        # replace data\n",
    "        temp_data[:, i] = col_data\n",
    "\n",
    "    return temp_data\n"
   ]
  },
  {
   "cell_type": "markdown",
   "id": "2b5ba269",
   "metadata": {},
   "source": [
    "### k-fold Cross Validation Splitter Method"
   ]
  },
  {
   "cell_type": "markdown",
   "id": "9abd850e",
   "metadata": {},
   "source": [
    "Method that splits given data into **k** parts that have equal sizes. "
   ]
  },
  {
   "cell_type": "code",
   "execution_count": 9,
   "id": "c8d9a08e",
   "metadata": {},
   "outputs": [],
   "source": [
    "def k_fold_cross_validation_split(X, k=5):\n",
    "    # takes numpy array as an argument\n",
    "    # shuffle\n",
    "    np.random.shuffle(X)\n",
    "\n",
    "    splitted_data = []\n",
    "    data_partition_num = len(X) / k\n",
    "\n",
    "    for i in range(k):\n",
    "        start = int(i * data_partition_num)\n",
    "        end = int((i + 1) * data_partition_num)\n",
    "\n",
    "        test_set = X[start:end, :]\n",
    "        train_set = np.concatenate((X[0:start, :], X[end:, :]), axis=0)\n",
    "\n",
    "        splitted_data.append(np.array([train_set, test_set], dtype=object))\n",
    "\n",
    "    return np.array(splitted_data)\n"
   ]
  },
  {
   "cell_type": "markdown",
   "id": "a6877ffb",
   "metadata": {},
   "source": [
    "### Method That Performs Cross Validation(runs all possible train set combinations)"
   ]
  },
  {
   "cell_type": "markdown",
   "id": "7f91e8fe",
   "metadata": {},
   "source": [
    "This method performs **train** and **test** process for all possible train set-test set splits.\n",
    "\n",
    "Takes one of **knn instances** as a parameter and calls relevant knn's fit and predict methods. On the other hand, decides whether calculate accuracy or mae by consider **classification** boolean parameter which is True for **Classification** case and False for **Regression** case.   "
   ]
  },
  {
   "cell_type": "code",
   "execution_count": 10,
   "id": "a469385b",
   "metadata": {},
   "outputs": [],
   "source": [
    "def cross_validation(splitted_data, knn, normalize, classification):\n",
    "    accuracies = []\n",
    "    mae_values = []\n",
    "\n",
    "    for data in splitted_data:\n",
    "        sample_train = data[0]\n",
    "        sample_test = data[1]\n",
    "\n",
    "        # print(sample_train.shape)\n",
    "        # print(sample_test.shape)\n",
    "\n",
    "        # train and test sets\n",
    "        X_train = sample_train[:, :-1]\n",
    "        y_train = sample_train[:, -1]\n",
    "\n",
    "        X_test = sample_test[:, :-1]\n",
    "        y_test = sample_test[:, -1]\n",
    "\n",
    "        if normalize:\n",
    "            \"\"\"\n",
    "                Applying min-max normalization to data\n",
    "\n",
    "                Applying separately to avoid data leakage\n",
    "            \"\"\"\n",
    "            X_train = min_max_normalization(X_train)\n",
    "            X_test = min_max_normalization(X_test)\n",
    "\n",
    "        # fitting data\n",
    "        knn.fit(X_train, y_train)\n",
    "\n",
    "        # prediction part\n",
    "        predictions = knn.predict(X_test)\n",
    "\n",
    "        # print(knn.y_train)\n",
    "        # print(predictions)\n",
    "        # print(y_test)\n",
    "\n",
    "        if classification:\n",
    "            # calculate accuracy\n",
    "            accuracy = accuracy_score(predictions, y_test)\n",
    "            accuracies.append(accuracy)\n",
    "        else:\n",
    "            mae = mean_absolute_error(predictions, y_test)\n",
    "            mae_values.append(mae)\n",
    "\n",
    "    if classification:\n",
    "        accuracies = np.array(accuracies)\n",
    "        return np.sort(accuracies), np.mean(accuracies)\n",
    "    else:\n",
    "        return np.sort(mae_values), np.mean(mae_values)\n"
   ]
  },
  {
   "cell_type": "markdown",
   "id": "8646bc5c",
   "metadata": {},
   "source": [
    "### KNN Base Class"
   ]
  },
  {
   "cell_type": "markdown",
   "id": "2c8799ce",
   "metadata": {},
   "source": [
    "KNN parent class for **classification** which includes common method in **weighted** and **standard** KNN-Classifier"
   ]
  },
  {
   "cell_type": "code",
   "execution_count": 11,
   "id": "34d1eea7",
   "metadata": {},
   "outputs": [],
   "source": [
    "class KnnBase:\n",
    "\n",
    "    # setting k value of KNN algorithm\n",
    "    def __init__(self, k=3):\n",
    "        self.k = k\n",
    "\n",
    "    # setting attribute and class data\n",
    "    def fit(self, X, y):\n",
    "        self.X_train = X\n",
    "        self.y_train = y\n",
    "\n",
    "    # majority voting function\n",
    "    def vote(self, neighbours, frequence_array):\n",
    "        raise NotImplementedError(\"Each class must implement their own voting function !\")\n",
    "\n",
    "    def predict(self, X):\n",
    "        predicted_classes = [self.predict_helper(row) for row in X]\n",
    "        return predicted_classes\n",
    "\n",
    "    def predict_helper(self, x):\n",
    "        raise NotImplementedError(\"Each class must implement their own predict_helper function !\")\n"
   ]
  },
  {
   "cell_type": "markdown",
   "id": "9233f1fa",
   "metadata": {},
   "source": [
    "### KNN Classification Class Without Weight Values"
   ]
  },
  {
   "cell_type": "markdown",
   "id": "9f2a2e87",
   "metadata": {},
   "source": [
    "KNN child class of KNNBase for **non-weighted** classification which implemented own methods"
   ]
  },
  {
   "cell_type": "code",
   "execution_count": 12,
   "id": "ed756d9c",
   "metadata": {},
   "outputs": [],
   "source": [
    "class KNN(KnnBase):\n",
    "\n",
    "    # setting k value of KNN algorithm\n",
    "    def __init__(self, k=3):\n",
    "        super().__init__(k)\n",
    "\n",
    "    # majority voting function\n",
    "    def vote(self, neighbours, frequence_array=None):\n",
    "        distances = []\n",
    "        classes = []\n",
    "        indexes = []\n",
    "\n",
    "        for neighbour in neighbours:\n",
    "            index = neighbour[1]  # neighbour[1] : index of related data's row\n",
    "            # recall --> [dist, index_of_neighbour]\n",
    "\n",
    "            _class = self.y_train[index]  # _ class : corresponding data in the Class set\n",
    "            _distance = neighbour[0]  # neighbour[0] : distance of related data\n",
    "\n",
    "            # save all information in various lists\n",
    "            distances.append(_distance)\n",
    "            classes.append(_class)\n",
    "            indexes.append(index)\n",
    "\n",
    "        # print(\"-----voting part-----\")\n",
    "        counted = list(Counter(classes).items())  # numerical grouping by class of each data\n",
    "        # print(classes)\n",
    "        # print(counted)\n",
    "        # print(\"distances: \", distances)\n",
    "\n",
    "        most_common = counted[0]  # find the most repetitive class\n",
    "        class_numbers = [i[1] for i in counted]  # store the number of repetitions of classes\n",
    "        # print(class_numbers)\n",
    "\n",
    "        if class_numbers.count(most_common[0]) > 1:  # if the most common class has more than one sample\n",
    "\n",
    "            # x = input(\"tie found, press any key to continue\")\n",
    "\n",
    "            # that means we have a tie situation..\n",
    "            classes_of_duplicate_occurrences = []\n",
    "            for cnt in counted:\n",
    "                if cnt[1] == most_common[1]:\n",
    "                    # the one that we are looking for\n",
    "                    classes_of_duplicate_occurrences.append(\n",
    "                        cnt[0])  # find the classes of the data that provide the tie situation\n",
    "\n",
    "            # print(classes_of_duplicate_occurrences)\n",
    "\n",
    "            # breaking tie part\n",
    "            new_distances = [[] for i in range(int(max(classes_of_duplicate_occurrences)) + 1)]\n",
    "\n",
    "            for _class in classes_of_duplicate_occurrences:\n",
    "                for __index, __class in enumerate(classes):\n",
    "                    if _class == __class:\n",
    "                        # access distance of neighbour from the array which is created above\n",
    "                        indiv_distance = distances[__index]\n",
    "\n",
    "                        # store distances to calculate sums later and decide nearest neighbour\n",
    "                        new_distances[int(_class)].append(indiv_distance)\n",
    "\n",
    "            # print(new_distances)\n",
    "\n",
    "            empty_list_indices = [i for i in range(len(new_distances)) if len(new_distances[i]) == 0]\n",
    "\n",
    "            for index, new_distance in enumerate(new_distances):\n",
    "                new_distances[index] = sum(new_distance)\n",
    "\n",
    "            new_distances = np.array(new_distances)\n",
    "            # print(new_distances)\n",
    "\n",
    "            sorted_indices = np.argsort(new_distances)\n",
    "            # print(sorted_indices)\n",
    "\n",
    "            # print(\"empty part\")\n",
    "            # print(empty_list_indices)\n",
    "\n",
    "            will_be_deleted_indices = []\n",
    "            for index in empty_list_indices:\n",
    "                for i, _index in enumerate(sorted_indices):\n",
    "                    if index == _index:\n",
    "                        will_be_deleted_indices.append(i)\n",
    "\n",
    "            sorted_indices = np.delete(sorted_indices, will_be_deleted_indices)\n",
    "            # print(sorted_indices)\n",
    "\n",
    "            predicted_class = int(sorted_indices[0])\n",
    "            # print(predicted_class)\n",
    "        else:\n",
    "            # no tie select most common as nearest neighbour\n",
    "            predicted_class = int(most_common[0])\n",
    "\n",
    "        return predicted_class\n",
    "\n",
    "    def predict_helper(self, x):\n",
    "        \"\"\"\n",
    "        [\n",
    "            [dist, index_of_neighbour],\n",
    "            [another_dist, index_of_another_neighbour],\n",
    "            ...\n",
    "        ]\n",
    "        \"\"\"\n",
    "\n",
    "        # distance calculation\n",
    "        distances = [[euclidean_distance(x, self.X_train[i]), i] for i in range(len(self.X_train))]\n",
    "\n",
    "        # sorting to find nearest neighbour\n",
    "        # print(distances)\n",
    "        sorted_array = sorted(distances, key=lambda x: x[0])\n",
    "        # print(sorted_array)\n",
    "\n",
    "        # print(\"Asked data: \", x.astype(int))\n",
    "        # print(\"Nearest Neighbours:\")\n",
    "        for m in range(self.k):\n",
    "            index = sorted_array[m][1]\n",
    "            # print(self.X_train[index], \", class: \" ,self.y_train[index])\n",
    "\n",
    "        predicted = self.vote(sorted_array[:self.k])\n",
    "        return predicted"
   ]
  },
  {
   "cell_type": "markdown",
   "id": "502b8d5e",
   "metadata": {},
   "source": [
    "### KNN Classification Class With Weights"
   ]
  },
  {
   "cell_type": "markdown",
   "id": "bd061e40",
   "metadata": {},
   "source": [
    "KNN child class of KnnBase for **classification** with weight values and also implements own methods."
   ]
  },
  {
   "cell_type": "code",
   "execution_count": 13,
   "id": "3f33f636",
   "metadata": {},
   "outputs": [],
   "source": [
    "class WeightedKNN(KnnBase):\n",
    "\n",
    "    # setting k value of KNN algorithm\n",
    "    def __init__(self, k=3):\n",
    "        super().__init__(k)\n",
    "\n",
    "    # majority voting function\n",
    "    def vote(self, neighbours, frequence_array):\n",
    "        distances = []\n",
    "        classes = []\n",
    "        indexes = []\n",
    "        weights = []\n",
    "\n",
    "        for neighbour in neighbours:\n",
    "            _index = neighbour[1]  # neighbour[1] : index of related data's row\n",
    "            # recall --> [dist, index_of_neighbour]\n",
    "\n",
    "            _class = self.y_train[_index]  # _ class : corresponding data in the Class set\n",
    "            _distance = neighbour[0]  # neighbour[0] : distance of related data\n",
    "            _weight = 1 if _distance == 0 else (1 / _distance)\n",
    "\n",
    "            # save all information in various lists\n",
    "            distances.append(_distance)\n",
    "            classes.append(_class)\n",
    "            indexes.append(_index)\n",
    "            weights.append(_weight)\n",
    "\n",
    "        # just for convention\n",
    "        counted = frequence_array\n",
    "\n",
    "        # print(\"-----voting part-----\")\n",
    "\n",
    "        # old code\n",
    "        # counted = list(Counter(classes).items())\n",
    "\n",
    "        # print(classes)\n",
    "        # print(counted)\n",
    "        # print(\"distances: \", distances)\n",
    "\n",
    "        most_common = counted[0]  # find the most repetitive class\n",
    "        class_numbers = [i[1] for i in counted]  # store the number of repetitions of classes\n",
    "        # print(class_numbers)\n",
    "\n",
    "        if class_numbers.count(most_common[0]) > 1:  # if the most common class has more than one sample\n",
    "\n",
    "            # x = input(\"tie found, press any key to continue\")\n",
    "\n",
    "            # that means we have a tie situation\n",
    "            classes_of_duplicate_occurrences = []\n",
    "            for cnt in counted:\n",
    "                if cnt[1] == most_common[1]:\n",
    "                    # the one that we are looking for\n",
    "                    classes_of_duplicate_occurrences.append(cnt[0])\n",
    "\n",
    "            # print(classes_of_duplicate_occurrences)\n",
    "\n",
    "            # breaking tie part\n",
    "            new_distances = [[] for i in range(int(max(classes_of_duplicate_occurrences)) + 1)]\n",
    "\n",
    "            for _class in classes_of_duplicate_occurrences:\n",
    "                for __index, __class in enumerate(classes):\n",
    "                    if _class == __class:\n",
    "                        # access distance of neighbour from the array which is created above\n",
    "                        indiv_distance = distances[__index]\n",
    "\n",
    "                        # store distances to calculate sums later and decide nearest neighbour\n",
    "                        new_distances[int(_class)].append(indiv_distance)\n",
    "\n",
    "            # print(new_distances)\n",
    "\n",
    "            empty_list_indices = [i for i in range(len(new_distances)) if len(new_distances[i]) == 0]\n",
    "\n",
    "            for index, new_distance in enumerate(new_distances):\n",
    "                new_distances[index] = sum(new_distance)\n",
    "\n",
    "            new_distances = np.array(new_distances)\n",
    "            # print(new_distances)\n",
    "\n",
    "            sorted_indices = np.argsort(new_distances)\n",
    "            # print(sorted_indices)\n",
    "\n",
    "            # print(\"empty part\")\n",
    "            # print(empty_list_indices)\n",
    "\n",
    "            will_be_deleted_indices = []\n",
    "            for index in empty_list_indices:\n",
    "                for i, _index in enumerate(sorted_indices):\n",
    "                    if index == _index:\n",
    "                        will_be_deleted_indices.append(i)\n",
    "\n",
    "            sorted_indices = np.delete(sorted_indices, will_be_deleted_indices)\n",
    "            # print(sorted_indices)\n",
    "\n",
    "            predicted_class = int(sorted_indices[0])\n",
    "            # print(predicted_class)\n",
    "        else:\n",
    "            # no tie select most common as nearest neighbour\n",
    "            predicted_class = int(most_common[0])\n",
    "\n",
    "        return predicted_class\n",
    "\n",
    "    def predict_helper(self, x):\n",
    "        \"\"\"\n",
    "        [\n",
    "            [dist, index_of_neighbour],\n",
    "            [another_dist, index_of_another_neighbour],\n",
    "            ...\n",
    "        ]\n",
    "        \"\"\"\n",
    "\n",
    "        # distance calculation\n",
    "        distances = [[euclidean_distance(x, self.X_train[i]), i] for i in range(len(self.X_train))]\n",
    "\n",
    "        # sorting to find nearest neighbour\n",
    "        # print(distances)\n",
    "        sorted_array = sorted(distances, key=lambda x: x[0])\n",
    "        # print(sorted_array)\n",
    "\n",
    "        # print(\"Asked data: \", x.astype(int))\n",
    "        # print(\"Nearest Neighbours:\")\n",
    "        for m in range(self.k):\n",
    "            index = sorted_array[m][1]\n",
    "            # print(self.X_train[index], \", class: \" ,self.y_train[index])\n",
    "\n",
    "        # finding maximum class number to decide weight_dict size\n",
    "        maximum_class = int(np.max([self.y_train[i[1]] for i in sorted_array[:self.k]]))\n",
    "\n",
    "        weight_dict = {(i + 1): 0 for i in range(maximum_class + 1)}\n",
    "\n",
    "        for _tuple in range(self.k):\n",
    "            neighb_val = self.y_train[sorted_array[_tuple][1]]\n",
    "            # print(sorted_array[_tuple][0])\n",
    "            if not sorted_array[_tuple][0] == 0:\n",
    "                weight_dict[neighb_val] += (1 / sorted_array[_tuple][0])\n",
    "            else:\n",
    "                # if distance value equals to 0, weight value becomes 1 to avoid zero division error\n",
    "                weight_dict[neighb_val] += 1\n",
    "\n",
    "        # equivalent of Counter() method output from collections which has used on basic KNN\n",
    "        \"\"\"\n",
    "        frequence_array = [\n",
    "            (class1, weight1), \n",
    "            (class2, weight2),\n",
    "            (..., ...),\n",
    "            ...\n",
    "        ]\n",
    "        \"\"\"\n",
    "        frequence_array = [(_class, weight_dict[_class]) for _class in weight_dict.keys()]\n",
    "        frequence_array = sorted(frequence_array, key=lambda x: x[1], reverse=True)\n",
    "\n",
    "        # print(frequence_array)\n",
    "\n",
    "        # print(sorted_array[:self.k])\n",
    "        predicted = self.vote(sorted_array[:self.k], frequence_array)\n",
    "        return predicted\n"
   ]
  },
  {
   "cell_type": "markdown",
   "id": "c7ccd497",
   "metadata": {},
   "source": [
    "### KNN Regression Base Class"
   ]
  },
  {
   "cell_type": "markdown",
   "id": "e847e512",
   "metadata": {},
   "source": [
    "KNN base class for **regression** part, includes common methods for weighted and non-weighted regression. The rest will be implemented by child classes and specified with **NotImplementedError** "
   ]
  },
  {
   "cell_type": "code",
   "execution_count": 14,
   "id": "14329885",
   "metadata": {},
   "outputs": [],
   "source": [
    "class KNNRegressionBase:\n",
    "\n",
    "    def __init__(self, k=3):\n",
    "        self.k = k\n",
    "\n",
    "    def fit(self, X, y):\n",
    "        self.X_train = X\n",
    "        self.y_train = y\n",
    "\n",
    "    def regression(self, neighbours):\n",
    "        raise NotImplementedError(\"Each class must implement their regression function !\")\n",
    "\n",
    "    def predict(self, X):\n",
    "        predicted_classes = [self.predict_helper(row) for row in X]\n",
    "        return predicted_classes\n",
    "\n",
    "    def predict_helper(self, x):\n",
    "        \"\"\"\n",
    "        [\n",
    "            [dist, index_of_neighbour],\n",
    "            [another_dist, index_of_another_neighbour],\n",
    "            ...\n",
    "        ]\n",
    "        \"\"\"\n",
    "\n",
    "        # distance calculation\n",
    "        distances = [[euclidean_distance(x, self.X_train[i]), i] for i in range(len(self.X_train))]\n",
    "\n",
    "        # sorting to find nearest neighbour\n",
    "        # print(distances)\n",
    "        sorted_array = sorted(distances, key=lambda x: x[0])\n",
    "        # print(sorted_array)\n",
    "\n",
    "        # print(\"Asked data: \", x.astype(int))\n",
    "        # print(\"Nearest Neighbours:\")\n",
    "        for m in range(self.k):\n",
    "            index = sorted_array[m][1]\n",
    "            # print(self.X_train[index], \", class: \" ,self.y_train[index])\n",
    "\n",
    "        predicted = self.regression(sorted_array[:self.k])\n",
    "        return predicted"
   ]
  },
  {
   "cell_type": "markdown",
   "id": "a8c20947",
   "metadata": {},
   "source": [
    "### KNN Regression Class Without Weight Values"
   ]
  },
  {
   "cell_type": "markdown",
   "id": "447223a1",
   "metadata": {},
   "source": [
    "KNN child class of *KNNRegressionBase* for regression part without weight values. Also implemented own **regression** method."
   ]
  },
  {
   "cell_type": "code",
   "execution_count": 15,
   "id": "df4e9262",
   "metadata": {},
   "outputs": [],
   "source": [
    "class KNNRegression(KNNRegressionBase):\n",
    "\n",
    "    def __init__(self, k=3):\n",
    "        super().__init__(k)\n",
    "\n",
    "    def regression(self, neighbours):\n",
    "        values = [self.y_train[neighbour[1]] for neighbour in neighbours]\n",
    "        return np.mean(values)\n"
   ]
  },
  {
   "cell_type": "markdown",
   "id": "bc6b7a0a",
   "metadata": {},
   "source": [
    "### KNN Regression Class With Weight Values"
   ]
  },
  {
   "cell_type": "markdown",
   "id": "d7b9d027",
   "metadata": {},
   "source": [
    "KNN child class of *KNNRegressionBase* for regression part with weight values and also implemented own **regression** method."
   ]
  },
  {
   "cell_type": "code",
   "execution_count": 16,
   "id": "54797e53",
   "metadata": {},
   "outputs": [],
   "source": [
    "class WeightedKNNRegression(KNNRegressionBase):\n",
    "\n",
    "    def __init__(self, k=3):\n",
    "        super().__init__(k)\n",
    "\n",
    "    def regression(self, neighbours):\n",
    "        values = np.array([self.y_train[neighbour[1]] for neighbour in neighbours])\n",
    "        weights = np.array([(1 / neighbour[0]) if neighbour[0] != 0 else 1 for neighbour in neighbours])\n",
    "\n",
    "        return ((values * weights).sum()) / weights.sum()\n"
   ]
  },
  {
   "cell_type": "markdown",
   "id": "a3e27e3c",
   "metadata": {},
   "source": [
    "### Test Method That Performs Several Tests Which Are All Possible Scenarios"
   ]
  },
  {
   "cell_type": "markdown",
   "id": "c1ba4325",
   "metadata": {},
   "source": [
    "General test method that performs several test according to all possibilities specified in assignment pdf file. In addition; reading data from '.csv' file and convert pandas DataFrame to numpy array, splitting 5 different train-test sets according to given value 5, creating relevant arrays for drawing **accuracy** and **error** graphs, etc. done in this method. "
   ]
  },
  {
   "cell_type": "code",
   "execution_count": 17,
   "id": "c8242515",
   "metadata": {},
   "outputs": [],
   "source": [
    "def generalTest():\n",
    "\n",
    "    # classification part\n",
    "    classification_data = pd.read_csv(\"glass.csv\")\n",
    "    classification_data = np.array(classification_data)\n",
    "\n",
    "    # 5 fold cross validation\n",
    "    splitted = k_fold_cross_validation_split(classification_data, 5)\n",
    "\n",
    "    # regression part\n",
    "    regression_data = pd.read_csv(\"Concrete_Data_Yeh.csv\")\n",
    "    regression_data = np.array(regression_data)\n",
    "\n",
    "    # 5 fold cross validation\n",
    "    regression_splitted = k_fold_cross_validation_split(regression_data, 5)\n",
    "\n",
    "    k_list_withWeight = []\n",
    "    k_list_withoutWeight = []\n",
    "    k_list_withWeight_nonNormalized = []\n",
    "    k_list_withoutWeight_nonNormalized = []\n",
    "    k_list_withWeight_MAE = []\n",
    "    k_list_withoutWeight_MAE = []\n",
    "    k_list_withWeight_nonNormalized_MAE = []\n",
    "    k_list_withoutWeight_nonNormalized_MAE = []\n",
    "    for i in range(1, 6):\n",
    "        k_val = (2 * i) - 1\n",
    "\n",
    "        for bool in [True, False]:\n",
    "            text = \"With\" if bool else \"Without\"\n",
    "            print(\"*********************************\")\n",
    "            print(f\"{text} Normalization, k={k_val}\")\n",
    "\n",
    "            print(\"Classification Part\")\n",
    "            knn = KNN(k=k_val)\n",
    "            knn1 = WeightedKNN(k=k_val)\n",
    "\n",
    "            accuracies, mean_acc = cross_validation(splitted, knn, normalize=bool, classification=True)\n",
    "            accuracies1, mean_acc1 = cross_validation(splitted, knn1, normalize=bool, classification=True)\n",
    "            print(\"Distance based accuracies: \", accuracies, mean_acc)\n",
    "            print(\"Weighted accuracies: \", accuracies1, mean_acc1)\n",
    "\n",
    "            print(\"Regression Part\")\n",
    "            knn2 = KNNRegression(k=k_val)\n",
    "            knn3 = WeightedKNNRegression(k=k_val)\n",
    "\n",
    "            mae_values, mean_mae = cross_validation(regression_splitted, knn2, normalize=bool, classification=False)\n",
    "            mae_values1, mean_mae1 = cross_validation(regression_splitted, knn3, normalize=bool,\n",
    "                                                      classification=False)\n",
    "\n",
    "            print(\"Mae values: \", mae_values)\n",
    "            print(\"Weighted Mae values: \", mae_values1)\n",
    "\n",
    "            if bool:\n",
    "                k_list_withoutWeight.append(mean_acc)\n",
    "                k_list_withWeight.append(mean_acc1)\n",
    "                k_list_withoutWeight_MAE.append(mean_mae)\n",
    "                k_list_withWeight_MAE.append(mean_mae1)\n",
    "            else:\n",
    "                k_list_withoutWeight_nonNormalized.append(mean_acc)\n",
    "                k_list_withWeight_nonNormalized.append(mean_acc1)\n",
    "                k_list_withoutWeight_nonNormalized_MAE.append(mean_mae)\n",
    "                k_list_withWeight_nonNormalized_MAE.append(mean_mae1)\n",
    "    \n",
    "    # returning relevant arrays for drawing graphs \n",
    "    return [\n",
    "        k_list_withoutWeight, k_list_withWeight, \n",
    "        k_list_withoutWeight_nonNormalized, \n",
    "        k_list_withWeight_nonNormalized, k_list_withoutWeight_MAE, \n",
    "        k_list_withWeight_MAE, k_list_withoutWeight_nonNormalized_MAE,\n",
    "        k_list_withoutWeight_nonNormalized_MAE\n",
    "    ]\n",
    "    \n",
    "    "
   ]
  },
  {
   "cell_type": "markdown",
   "id": "7bf76817",
   "metadata": {},
   "source": [
    "### Display Method For Calling Plot Method For Every Graph"
   ]
  },
  {
   "cell_type": "code",
   "execution_count": 18,
   "id": "8e247347",
   "metadata": {},
   "outputs": [],
   "source": [
    "def display(k_list_withoutWeight, k_list_withWeight, \n",
    "    k_list_withoutWeight_nonNormalized, k_list_withWeight_nonNormalized, \n",
    "    k_list_withoutWeight_MAE, k_list_withWeight_MAE, \n",
    "    k_list_withoutWeight_nonNormalized_MAE, k_list_withWeight_nonNormalized_MAE):\n",
    "    \n",
    "   \n",
    "    \n",
    "    # plotting graphs\n",
    "    plot_k_values_and_accuracies(\"KNN without weights\", \"KNN with weights\", k_list_withoutWeight, k_list_withWeight,\n",
    "                                 {'size': 12})\n",
    "    plot_k_values_and_accuracies(\"KNN without weights (non normalized)\", \"KNN with weights (non normalized)\",\n",
    "                                 k_list_withoutWeight_nonNormalized, k_list_withWeight_nonNormalized, {'size': 9})\n",
    "    plot_k_values_and_accuracies(\"KNN Regression without weights\", \"KNN Regression with weights\",\n",
    "                                 k_list_withoutWeight_MAE, k_list_withWeight_MAE, {'size': 10}, isAcc=False)\n",
    "    plot_k_values_and_accuracies(\"KNN Regression without weights (non normalized)\",\n",
    "                                 \"KNN Regression with weights (non normalized)\",\n",
    "                                 k_list_withoutWeight_nonNormalized_MAE, k_list_withWeight_nonNormalized_MAE,\n",
    "                                 {'size': 7}, isAcc=False)"
   ]
  },
  {
   "cell_type": "markdown",
   "id": "ac362c33",
   "metadata": {},
   "source": [
    "### Obtaining Data Needed For Graphs and Running Main Method with General Test Method"
   ]
  },
  {
   "cell_type": "code",
   "execution_count": 19,
   "id": "957c60a1",
   "metadata": {},
   "outputs": [
    {
     "name": "stdout",
     "output_type": "stream",
     "text": [
      "*********************************\n",
      "With Normalization, k=1\n",
      "Classification Part\n",
      "Distance based accuracies:  [41.86046512 53.48837209 53.48837209 66.66666667 67.44186047] 56.58914728682171\n",
      "Weighted accuracies:  [41.86046512 53.48837209 53.48837209 66.66666667 67.44186047] 56.58914728682171\n",
      "Regression Part\n",
      "Mae values:  [5.58830097 5.90126214 6.56218447 6.64776699 7.05791262]\n",
      "Weighted Mae values:  [5.58830097 5.90126214 6.56218447 6.64776699 7.05791262]\n",
      "*********************************\n",
      "Without Normalization, k=1\n",
      "Classification Part\n",
      "Distance based accuracies:  [69.76744186 69.76744186 72.09302326 72.09302326 73.80952381] 71.50609080841639\n",
      "Weighted accuracies:  [69.76744186 69.76744186 72.09302326 72.09302326 73.80952381] 71.50609080841639\n",
      "Regression Part\n",
      "Mae values:  [5.95140777 6.09762136 6.37626214 6.43432039 6.91830097]\n",
      "Weighted Mae values:  [5.95140777 6.09762136 6.37626214 6.43432039 6.91830097]\n",
      "*********************************\n",
      "With Normalization, k=3\n",
      "Classification Part\n",
      "Distance based accuracies:  [41.86046512 53.48837209 53.48837209 66.66666667 67.44186047] 56.58914728682171\n",
      "Weighted accuracies:  [44.18604651 53.48837209 55.81395349 66.66666667 69.76744186] 57.984496124031\n",
      "Regression Part\n",
      "Mae values:  [6.72563107 6.85561489 6.94391586 7.06304207 7.18747573]\n",
      "Weighted Mae values:  [6.40552568 6.45891112 6.7518601  6.75232384 6.75818344]\n",
      "*********************************\n",
      "Without Normalization, k=3\n",
      "Classification Part\n",
      "Distance based accuracies:  [69.76744186 69.76744186 72.09302326 72.09302326 73.80952381] 71.50609080841639\n",
      "Weighted accuracies:  [62.79069767 67.44186047 67.44186047 69.76744186 78.57142857] 69.20265780730897\n",
      "Regression Part\n",
      "Mae values:  [5.87462783 6.63430421 6.78064725 6.96124595 6.9736246 ]\n",
      "Weighted Mae values:  [5.20416629 5.45909469 5.72371282 5.80949783 5.9440161 ]\n",
      "*********************************\n",
      "With Normalization, k=5\n",
      "Classification Part\n",
      "Distance based accuracies:  [41.86046512 53.48837209 53.48837209 66.66666667 67.44186047] 56.58914728682171\n",
      "Weighted accuracies:  [48.8372093  58.13953488 59.52380952 65.11627907 72.09302326] 60.74197120708749\n",
      "Regression Part\n",
      "Mae values:  [6.69505825 7.10784466 7.36914563 7.69970874 7.71361165]\n",
      "Weighted Mae values:  [6.46779055 6.76108911 7.10020688 7.18320758 7.19289609]\n",
      "*********************************\n",
      "Without Normalization, k=5\n",
      "Classification Part\n",
      "Distance based accuracies:  [69.76744186 69.76744186 72.09302326 72.09302326 73.80952381] 71.50609080841639\n",
      "Weighted accuracies:  [62.79069767 62.79069767 67.44186047 69.76744186 73.80952381] 67.32004429678848\n",
      "Regression Part\n",
      "Mae values:  [6.20125243 7.06091262 7.20353398 7.2471068  7.41825243]\n",
      "Weighted Mae values:  [5.19707963 5.58497903 5.6960819  5.80906418 6.01656972]\n",
      "*********************************\n",
      "With Normalization, k=7\n",
      "Classification Part\n",
      "Distance based accuracies:  [41.86046512 53.48837209 53.48837209 66.66666667 67.44186047] 56.58914728682171\n",
      "Weighted accuracies:  [53.48837209 57.14285714 65.11627907 65.11627907 72.09302326] 62.59136212624585\n",
      "Regression Part\n",
      "Mae values:  [6.94555479 7.19785021 7.60477809 7.67214979 7.9335853 ]\n",
      "Weighted Mae values:  [6.70119889 6.84965815 7.17228466 7.34261932 7.41681878]\n",
      "*********************************\n",
      "Without Normalization, k=7\n",
      "Classification Part\n",
      "Distance based accuracies:  [69.76744186 69.76744186 69.76744186 72.09302326 73.80952381] 71.04097452934661\n",
      "Weighted accuracies:  [60.46511628 65.11627907 69.76744186 72.09302326 73.80952381] 68.250276854928\n",
      "Regression Part\n",
      "Mae values:  [6.49014563 7.25717753 7.36683773 7.42148405 7.87966019]\n",
      "Weighted Mae values:  [5.35975274 5.67793299 5.74123011 5.92690145 6.20814695]\n",
      "*********************************\n",
      "With Normalization, k=9\n",
      "Classification Part\n",
      "Distance based accuracies:  [41.86046512 53.48837209 53.48837209 66.66666667 67.44186047] 56.58914728682171\n",
      "Weighted accuracies:  [48.8372093  52.38095238 62.79069767 67.44186047 74.41860465] 61.17386489479512\n",
      "Regression Part\n",
      "Mae values:  [7.14440669 7.35468716 7.6209493  7.81805825 8.19168824]\n",
      "Weighted Mae values:  [6.84529152 6.98645041 7.19190425 7.51495774 7.56873904]\n",
      "*********************************\n",
      "Without Normalization, k=9\n",
      "Classification Part\n",
      "Distance based accuracies:  [69.76744186 69.76744186 72.09302326 72.09302326 73.80952381] 71.50609080841639\n",
      "Weighted accuracies:  [60.46511628 65.11627907 69.76744186 69.76744186 73.80952381] 67.78516057585826\n",
      "Regression Part\n",
      "Mae values:  [6.72800431 7.46325243 7.57716289 7.71254045 8.03119741]\n",
      "Weighted Mae values:  [5.48491181 5.81228721 5.81249583 6.00422241 6.38400163]\n"
     ]
    }
   ],
   "source": [
    " # relevant data\n",
    "arr1, arr2, arr3, arr4, arr5, arr6, arr7, arr8 = generalTest()"
   ]
  },
  {
   "cell_type": "markdown",
   "id": "fb9b2565",
   "metadata": {},
   "source": [
    "### Calling Method Called Display For Graphs"
   ]
  },
  {
   "cell_type": "code",
   "execution_count": 20,
   "id": "4aad7092",
   "metadata": {
    "scrolled": true
   },
   "outputs": [
    {
     "data": {
      "image/png": "[encoded data removed]",
      "text/plain": [
       "<Figure size 432x288 with 2 Axes>"
      ]
     },
     "metadata": {
      "needs_background": "light"
     },
     "output_type": "display_data"
    },
    {
     "data": {
      "image/png": "[encoded data removed]",
      "text/plain": [
       "<Figure size 432x288 with 2 Axes>"
      ]
     },
     "metadata": {
      "needs_background": "light"
     },
     "output_type": "display_data"
    },
    {
     "data": {
      "image/png": "[encoded data removed]",
      "text/plain": [
       "<Figure size 432x288 with 2 Axes>"
      ]
     },
     "metadata": {
      "needs_background": "light"
     },
     "output_type": "display_data"
    },
    {
     "data": {
      "image/png": "[encoded data removed]",
      "text/plain": [
       "<Figure size 432x288 with 2 Axes>"
      ]
     },
     "metadata": {
      "needs_background": "light"
     },
     "output_type": "display_data"
    }
   ],
   "source": [
    "display(arr1, arr2, arr3, arr4, arr5, arr6, arr7, arr8)"
   ]
  },
  {
   "cell_type": "markdown",
   "id": "e1fbb19a",
   "metadata": {},
   "source": [
    "## Error Analysis For Classification"
   ]
  },
  {
   "cell_type": "markdown",
   "id": "c3afefaa",
   "metadata": {},
   "source": [
    "asdasd"
   ]
  },
  {
   "cell_type": "markdown",
   "id": "0a0bdbb1",
   "metadata": {},
   "source": [
    "# Tablo"
   ]
  },
  {
   "cell_type": "code",
   "execution_count": 38,
   "id": "2b09d75e",
   "metadata": {},
   "outputs": [
    {
     "name": "stdout",
     "output_type": "stream",
     "text": [
      "[[0.18906367 0.9613666  0.86146225 0.69186652]\n",
      " [0.74772067 0.20290967 0.93829063 0.32851073]\n",
      " [0.2888787  0.29324555 0.52390848 0.41023815]\n",
      " [0.89654674 0.13690567 0.72596544 0.01112581]]\n"
     ]
    },
    {
     "name": "stderr",
     "output_type": "stream",
     "text": [
      "C:\\Users\\Berkay\\AppData\\Local\\Temp/ipykernel_14008/1330402032.py:27: UserWarning: Tight layout not applied. The left and right margins cannot be made large enough to accommodate all axes decorations. \n",
      "  fig.tight_layout()\n"
     ]
    },
    {
     "data": {
      "image/png": "[encoded data removed]",
      "text/plain": [
       "<Figure size 432x288 with 1 Axes>"
      ]
     },
     "metadata": {
      "needs_background": "light"
     },
     "output_type": "display_data"
    }
   ],
   "source": [
    "row_headers = [\"aasdads\",\"basdasd\",\"asdasdac\",\"asdasdd\"]\n",
    "column_headers = [\"dasda\", \"casda\", \"basda\", \"aasda\"]\n",
    "cell_text = np.random.rand(4,4)\n",
    "print(cell_text)\n",
    "\n",
    "rcolors = plt.cm.BuPu(np.full(len(row_headers), 0.1))\n",
    "ccolors = plt.cm.BuPu(np.full(len(column_headers), 0.1))\n",
    "\n",
    "\n",
    "fig, ax = plt.subplots()\n",
    "\n",
    "# hide axes\n",
    "fig.patch.set_visible(False)\n",
    "ax.axis('off')\n",
    "ax.axis('tight')\n",
    "\n",
    "tbl = ax.table(\n",
    "    cellText=cell_text, \n",
    "    colLabels=column_headers,\n",
    "    rowLabels=row_headers,\n",
    "    rowColours=rcolors,\n",
    "    rowLoc='left',\n",
    "    colColours=ccolors,\n",
    "    colWidths = [0.6, 0.6, 0.6, 0.6],\n",
    "    loc='center')\n",
    "\n",
    "fig.tight_layout()\n",
    "\n",
    "tbl.set_fontsize(25)\n",
    "tbl.scale(1,4)\n",
    "plt.show()"
   ]
  },
  {
   "cell_type": "markdown",
   "id": "e2bc10e5",
   "metadata": {},
   "source": [
    "## Error Analysis For Regression"
   ]
  },
  {
   "cell_type": "markdown",
   "id": "29d8f559",
   "metadata": {},
   "source": [
    "# Tablo"
   ]
  },
  {
   "cell_type": "code",
   "execution_count": null,
   "id": "dfd8fbf3",
   "metadata": {},
   "outputs": [],
   "source": []
  }
 ],
 "metadata": {
  "kernelspec": {
   "display_name": "venv",
   "language": "python",
   "name": "venv"
  },
  "language_info": {
   "codemirror_mode": {
    "name": "ipython",
    "version": 3
   },
   "file_extension": ".py",
   "mimetype": "text/x-python",
   "name": "python",
   "nbconvert_exporter": "python",
   "pygments_lexer": "ipython3",
   "version": "3.8.0"
  }
 },
 "nbformat": 4,
 "nbformat_minor": 5
}
